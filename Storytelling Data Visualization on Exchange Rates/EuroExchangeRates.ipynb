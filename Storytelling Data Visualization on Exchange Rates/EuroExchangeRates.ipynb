{
 "cells": [
  {
   "cell_type": "code",
   "execution_count": 96,
   "metadata": {
    "collapsed": true
   },
   "outputs": [],
   "source": [
    "# Euro Exchange Rate Analysis"
   ]
  },
  {
   "cell_type": "code",
   "execution_count": 97,
   "outputs": [],
   "source": [
    "import pandas as pd\n",
    "import matplotlib.pyplot as plt\n",
    "import seaborn as sea\n",
    "%matplotlib inline\n",
    "plt.style.use('seaborn-white')"
   ],
   "metadata": {
    "collapsed": false,
    "pycharm": {
     "name": "#%%\n"
    }
   }
  },
  {
   "cell_type": "code",
   "execution_count": 98,
   "outputs": [
    {
     "data": {
      "text/plain": "  Period\\Unit: [Australian dollar ] [Bulgarian lev ] [Brazilian real ]  \\\n0   2021-03-26               1.5459           1.9558            6.7110   \n1   2021-03-25               1.5548           1.9558            6.6960   \n2   2021-03-24               1.5532           1.9558            6.5258   \n3   2021-03-23               1.5491           1.9558            6.5562   \n4   2021-03-22               1.5400           1.9558            6.5917   \n\n  [Canadian dollar ] [Swiss franc ] [Chinese yuan renminbi ] [Cypriot pound ]  \\\n0             1.4814         1.1090                   7.7063              NaN   \n1             1.4849         1.1045                   7.7220              NaN   \n2             1.4884         1.1068                   7.7133              NaN   \n3             1.4938         1.1066                   7.7367              NaN   \n4             1.4903         1.1023                   7.7582              NaN   \n\n  [Czech koruna ] [Danish krone ]  ... [Romanian leu ] [Russian rouble ]  \\\n0          26.081          7.4361  ...          4.8878           89.5075   \n1          26.233          7.4360  ...          4.8865           90.0115   \n2          26.206          7.4360  ...          4.8880           90.2013   \n3          26.198          7.4360  ...          4.8893           90.2781   \n4          26.075          7.4360  ...          4.8862           88.9011   \n\n  [Swedish krona ] [Singapore dollar ] [Slovenian tolar ] [Slovak koruna ]  \\\n0          10.1905              1.5865                NaN              NaN   \n1          10.1935              1.5899                NaN              NaN   \n2          10.1635              1.5917                NaN              NaN   \n3          10.1813              1.5955                NaN              NaN   \n4          10.1580              1.5992                NaN              NaN   \n\n  [Thai baht ] [Turkish lira ] [US dollar ]  [South African rand ]  \n0      36.6540          9.4523       1.1782                17.6845  \n1      36.7460          9.4313       1.1802                17.6852  \n2      36.6580          9.4009       1.1825                17.5248  \n3      36.8190          9.3638       1.1883                17.5818  \n4      36.8160          9.4097       1.1926                17.5657  \n\n[5 rows x 41 columns]",
      "text/html": "<div>\n<style scoped>\n    .dataframe tbody tr th:only-of-type {\n        vertical-align: middle;\n    }\n\n    .dataframe tbody tr th {\n        vertical-align: top;\n    }\n\n    .dataframe thead th {\n        text-align: right;\n    }\n</style>\n<table border=\"1\" class=\"dataframe\">\n  <thead>\n    <tr style=\"text-align: right;\">\n      <th></th>\n      <th>Period\\Unit:</th>\n      <th>[Australian dollar ]</th>\n      <th>[Bulgarian lev ]</th>\n      <th>[Brazilian real ]</th>\n      <th>[Canadian dollar ]</th>\n      <th>[Swiss franc ]</th>\n      <th>[Chinese yuan renminbi ]</th>\n      <th>[Cypriot pound ]</th>\n      <th>[Czech koruna ]</th>\n      <th>[Danish krone ]</th>\n      <th>...</th>\n      <th>[Romanian leu ]</th>\n      <th>[Russian rouble ]</th>\n      <th>[Swedish krona ]</th>\n      <th>[Singapore dollar ]</th>\n      <th>[Slovenian tolar ]</th>\n      <th>[Slovak koruna ]</th>\n      <th>[Thai baht ]</th>\n      <th>[Turkish lira ]</th>\n      <th>[US dollar ]</th>\n      <th>[South African rand ]</th>\n    </tr>\n  </thead>\n  <tbody>\n    <tr>\n      <th>0</th>\n      <td>2021-03-26</td>\n      <td>1.5459</td>\n      <td>1.9558</td>\n      <td>6.7110</td>\n      <td>1.4814</td>\n      <td>1.1090</td>\n      <td>7.7063</td>\n      <td>NaN</td>\n      <td>26.081</td>\n      <td>7.4361</td>\n      <td>...</td>\n      <td>4.8878</td>\n      <td>89.5075</td>\n      <td>10.1905</td>\n      <td>1.5865</td>\n      <td>NaN</td>\n      <td>NaN</td>\n      <td>36.6540</td>\n      <td>9.4523</td>\n      <td>1.1782</td>\n      <td>17.6845</td>\n    </tr>\n    <tr>\n      <th>1</th>\n      <td>2021-03-25</td>\n      <td>1.5548</td>\n      <td>1.9558</td>\n      <td>6.6960</td>\n      <td>1.4849</td>\n      <td>1.1045</td>\n      <td>7.7220</td>\n      <td>NaN</td>\n      <td>26.233</td>\n      <td>7.4360</td>\n      <td>...</td>\n      <td>4.8865</td>\n      <td>90.0115</td>\n      <td>10.1935</td>\n      <td>1.5899</td>\n      <td>NaN</td>\n      <td>NaN</td>\n      <td>36.7460</td>\n      <td>9.4313</td>\n      <td>1.1802</td>\n      <td>17.6852</td>\n    </tr>\n    <tr>\n      <th>2</th>\n      <td>2021-03-24</td>\n      <td>1.5532</td>\n      <td>1.9558</td>\n      <td>6.5258</td>\n      <td>1.4884</td>\n      <td>1.1068</td>\n      <td>7.7133</td>\n      <td>NaN</td>\n      <td>26.206</td>\n      <td>7.4360</td>\n      <td>...</td>\n      <td>4.8880</td>\n      <td>90.2013</td>\n      <td>10.1635</td>\n      <td>1.5917</td>\n      <td>NaN</td>\n      <td>NaN</td>\n      <td>36.6580</td>\n      <td>9.4009</td>\n      <td>1.1825</td>\n      <td>17.5248</td>\n    </tr>\n    <tr>\n      <th>3</th>\n      <td>2021-03-23</td>\n      <td>1.5491</td>\n      <td>1.9558</td>\n      <td>6.5562</td>\n      <td>1.4938</td>\n      <td>1.1066</td>\n      <td>7.7367</td>\n      <td>NaN</td>\n      <td>26.198</td>\n      <td>7.4360</td>\n      <td>...</td>\n      <td>4.8893</td>\n      <td>90.2781</td>\n      <td>10.1813</td>\n      <td>1.5955</td>\n      <td>NaN</td>\n      <td>NaN</td>\n      <td>36.8190</td>\n      <td>9.3638</td>\n      <td>1.1883</td>\n      <td>17.5818</td>\n    </tr>\n    <tr>\n      <th>4</th>\n      <td>2021-03-22</td>\n      <td>1.5400</td>\n      <td>1.9558</td>\n      <td>6.5917</td>\n      <td>1.4903</td>\n      <td>1.1023</td>\n      <td>7.7582</td>\n      <td>NaN</td>\n      <td>26.075</td>\n      <td>7.4360</td>\n      <td>...</td>\n      <td>4.8862</td>\n      <td>88.9011</td>\n      <td>10.1580</td>\n      <td>1.5992</td>\n      <td>NaN</td>\n      <td>NaN</td>\n      <td>36.8160</td>\n      <td>9.4097</td>\n      <td>1.1926</td>\n      <td>17.5657</td>\n    </tr>\n  </tbody>\n</table>\n<p>5 rows × 41 columns</p>\n</div>"
     },
     "execution_count": 98,
     "metadata": {},
     "output_type": "execute_result"
    }
   ],
   "source": [
    "# Read our data into dataframe\n",
    "exchange_rates = pd.read_csv(\"euro-daily-hist_1999_2020.csv\")\n",
    "exchange_rates.head()"
   ],
   "metadata": {
    "collapsed": false,
    "pycharm": {
     "name": "#%%\n"
    }
   }
  },
  {
   "cell_type": "code",
   "execution_count": 99,
   "outputs": [
    {
     "data": {
      "text/plain": "     Period\\Unit: [Australian dollar ] [Bulgarian lev ] [Brazilian real ]  \\\n5749   1999-01-08               1.8406              NaN               NaN   \n5750   1999-01-07               1.8474              NaN               NaN   \n5751   1999-01-06               1.8820              NaN               NaN   \n5752   1999-01-05               1.8944              NaN               NaN   \n5753   1999-01-04               1.9100              NaN               NaN   \n\n     [Canadian dollar ] [Swiss franc ] [Chinese yuan renminbi ]  \\\n5749             1.7643         1.6138                      NaN   \n5750             1.7602         1.6165                      NaN   \n5751             1.7711         1.6116                      NaN   \n5752             1.7965         1.6123                      NaN   \n5753             1.8004         1.6168                      NaN   \n\n     [Cypriot pound ] [Czech koruna ] [Danish krone ]  ... [Romanian leu ]  \\\n5749          0.58187          34.938          7.4433  ...          1.3143   \n5750          0.58187          34.886          7.4431  ...          1.3092   \n5751          0.58200          34.850          7.4452  ...          1.3168   \n5752          0.58230          34.917          7.4495  ...          1.3168   \n5753          0.58231          35.107          7.4501  ...          1.3111   \n\n     [Russian rouble ] [Swedish krona ] [Singapore dollar ]  \\\n5749           27.2075           9.1650              1.9537   \n5750           26.9876           9.1800              1.9436   \n5751           27.4315           9.3050              1.9699   \n5752           26.5876           9.4025              1.9655   \n5753           25.2875           9.4696              1.9554   \n\n     [Slovenian tolar ] [Slovak koruna ] [Thai baht ] [Turkish lira ]  \\\n5749           188.8400           42.560      42.5590          0.3718   \n5750           188.8000           42.765      42.1678          0.3701   \n5751           188.7000           42.778      42.6949          0.3722   \n5752           188.7750           42.848      42.5048          0.3728   \n5753           189.0450           42.991      42.6799          0.3723   \n\n     [US dollar ]  [South African rand ]  \n5749       1.1659                 6.7855  \n5750       1.1632                 6.8283  \n5751       1.1743                 6.7307  \n5752       1.1790                 6.7975  \n5753       1.1789                 6.9358  \n\n[5 rows x 41 columns]",
      "text/html": "<div>\n<style scoped>\n    .dataframe tbody tr th:only-of-type {\n        vertical-align: middle;\n    }\n\n    .dataframe tbody tr th {\n        vertical-align: top;\n    }\n\n    .dataframe thead th {\n        text-align: right;\n    }\n</style>\n<table border=\"1\" class=\"dataframe\">\n  <thead>\n    <tr style=\"text-align: right;\">\n      <th></th>\n      <th>Period\\Unit:</th>\n      <th>[Australian dollar ]</th>\n      <th>[Bulgarian lev ]</th>\n      <th>[Brazilian real ]</th>\n      <th>[Canadian dollar ]</th>\n      <th>[Swiss franc ]</th>\n      <th>[Chinese yuan renminbi ]</th>\n      <th>[Cypriot pound ]</th>\n      <th>[Czech koruna ]</th>\n      <th>[Danish krone ]</th>\n      <th>...</th>\n      <th>[Romanian leu ]</th>\n      <th>[Russian rouble ]</th>\n      <th>[Swedish krona ]</th>\n      <th>[Singapore dollar ]</th>\n      <th>[Slovenian tolar ]</th>\n      <th>[Slovak koruna ]</th>\n      <th>[Thai baht ]</th>\n      <th>[Turkish lira ]</th>\n      <th>[US dollar ]</th>\n      <th>[South African rand ]</th>\n    </tr>\n  </thead>\n  <tbody>\n    <tr>\n      <th>5749</th>\n      <td>1999-01-08</td>\n      <td>1.8406</td>\n      <td>NaN</td>\n      <td>NaN</td>\n      <td>1.7643</td>\n      <td>1.6138</td>\n      <td>NaN</td>\n      <td>0.58187</td>\n      <td>34.938</td>\n      <td>7.4433</td>\n      <td>...</td>\n      <td>1.3143</td>\n      <td>27.2075</td>\n      <td>9.1650</td>\n      <td>1.9537</td>\n      <td>188.8400</td>\n      <td>42.560</td>\n      <td>42.5590</td>\n      <td>0.3718</td>\n      <td>1.1659</td>\n      <td>6.7855</td>\n    </tr>\n    <tr>\n      <th>5750</th>\n      <td>1999-01-07</td>\n      <td>1.8474</td>\n      <td>NaN</td>\n      <td>NaN</td>\n      <td>1.7602</td>\n      <td>1.6165</td>\n      <td>NaN</td>\n      <td>0.58187</td>\n      <td>34.886</td>\n      <td>7.4431</td>\n      <td>...</td>\n      <td>1.3092</td>\n      <td>26.9876</td>\n      <td>9.1800</td>\n      <td>1.9436</td>\n      <td>188.8000</td>\n      <td>42.765</td>\n      <td>42.1678</td>\n      <td>0.3701</td>\n      <td>1.1632</td>\n      <td>6.8283</td>\n    </tr>\n    <tr>\n      <th>5751</th>\n      <td>1999-01-06</td>\n      <td>1.8820</td>\n      <td>NaN</td>\n      <td>NaN</td>\n      <td>1.7711</td>\n      <td>1.6116</td>\n      <td>NaN</td>\n      <td>0.58200</td>\n      <td>34.850</td>\n      <td>7.4452</td>\n      <td>...</td>\n      <td>1.3168</td>\n      <td>27.4315</td>\n      <td>9.3050</td>\n      <td>1.9699</td>\n      <td>188.7000</td>\n      <td>42.778</td>\n      <td>42.6949</td>\n      <td>0.3722</td>\n      <td>1.1743</td>\n      <td>6.7307</td>\n    </tr>\n    <tr>\n      <th>5752</th>\n      <td>1999-01-05</td>\n      <td>1.8944</td>\n      <td>NaN</td>\n      <td>NaN</td>\n      <td>1.7965</td>\n      <td>1.6123</td>\n      <td>NaN</td>\n      <td>0.58230</td>\n      <td>34.917</td>\n      <td>7.4495</td>\n      <td>...</td>\n      <td>1.3168</td>\n      <td>26.5876</td>\n      <td>9.4025</td>\n      <td>1.9655</td>\n      <td>188.7750</td>\n      <td>42.848</td>\n      <td>42.5048</td>\n      <td>0.3728</td>\n      <td>1.1790</td>\n      <td>6.7975</td>\n    </tr>\n    <tr>\n      <th>5753</th>\n      <td>1999-01-04</td>\n      <td>1.9100</td>\n      <td>NaN</td>\n      <td>NaN</td>\n      <td>1.8004</td>\n      <td>1.6168</td>\n      <td>NaN</td>\n      <td>0.58231</td>\n      <td>35.107</td>\n      <td>7.4501</td>\n      <td>...</td>\n      <td>1.3111</td>\n      <td>25.2875</td>\n      <td>9.4696</td>\n      <td>1.9554</td>\n      <td>189.0450</td>\n      <td>42.991</td>\n      <td>42.6799</td>\n      <td>0.3723</td>\n      <td>1.1789</td>\n      <td>6.9358</td>\n    </tr>\n  </tbody>\n</table>\n<p>5 rows × 41 columns</p>\n</div>"
     },
     "execution_count": 99,
     "metadata": {},
     "output_type": "execute_result"
    }
   ],
   "source": [
    "exchange_rates.tail()"
   ],
   "metadata": {
    "collapsed": false,
    "pycharm": {
     "name": "#%%\n"
    }
   }
  },
  {
   "cell_type": "code",
   "execution_count": 100,
   "outputs": [
    {
     "name": "stdout",
     "output_type": "stream",
     "text": [
      "<class 'pandas.core.frame.DataFrame'>\n",
      "RangeIndex: 5754 entries, 0 to 5753\n",
      "Data columns (total 41 columns):\n",
      " #   Column                    Non-Null Count  Dtype  \n",
      "---  ------                    --------------  -----  \n",
      " 0   Period\\Unit:              5754 non-null   object \n",
      " 1   [Australian dollar ]      5754 non-null   object \n",
      " 2   [Bulgarian lev ]          5352 non-null   object \n",
      " 3   [Brazilian real ]         5486 non-null   object \n",
      " 4   [Canadian dollar ]        5754 non-null   object \n",
      " 5   [Swiss franc ]            5754 non-null   object \n",
      " 6   [Chinese yuan renminbi ]  5486 non-null   object \n",
      " 7   [Cypriot pound ]          2346 non-null   object \n",
      " 8   [Czech koruna ]           5754 non-null   object \n",
      " 9   [Danish krone ]           5754 non-null   object \n",
      " 10  [Estonian kroon ]         3130 non-null   object \n",
      " 11  [UK pound sterling ]      5754 non-null   object \n",
      " 12  [Greek drachma ]          520 non-null    object \n",
      " 13  [Hong Kong dollar ]       5754 non-null   object \n",
      " 14  [Croatian kuna ]          5486 non-null   object \n",
      " 15  [Hungarian forint ]       5754 non-null   object \n",
      " 16  [Indonesian rupiah ]      5754 non-null   object \n",
      " 17  [Israeli shekel ]         5486 non-null   object \n",
      " 18  [Indian rupee ]           5486 non-null   object \n",
      " 19  [Iceland krona ]          3347 non-null   float64\n",
      " 20  [Japanese yen ]           5754 non-null   object \n",
      " 21  [Korean won ]             5754 non-null   object \n",
      " 22  [Lithuanian litas ]       4159 non-null   object \n",
      " 23  [Latvian lats ]           3904 non-null   object \n",
      " 24  [Maltese lira ]           2346 non-null   object \n",
      " 25  [Mexican peso ]           5754 non-null   object \n",
      " 26  [Malaysian ringgit ]      5754 non-null   object \n",
      " 27  [Norwegian krone ]        5754 non-null   object \n",
      " 28  [New Zealand dollar ]     5754 non-null   object \n",
      " 29  [Philippine peso ]        5754 non-null   object \n",
      " 30  [Polish zloty ]           5754 non-null   object \n",
      " 31  [Romanian leu ]           5692 non-null   float64\n",
      " 32  [Russian rouble ]         5754 non-null   object \n",
      " 33  [Swedish krona ]          5754 non-null   object \n",
      " 34  [Singapore dollar ]       5754 non-null   object \n",
      " 35  [Slovenian tolar ]        2085 non-null   object \n",
      " 36  [Slovak koruna ]          2608 non-null   object \n",
      " 37  [Thai baht ]              5754 non-null   object \n",
      " 38  [Turkish lira ]           5692 non-null   float64\n",
      " 39  [US dollar ]              5754 non-null   object \n",
      " 40  [South African rand ]     5754 non-null   object \n",
      "dtypes: float64(3), object(38)\n",
      "memory usage: 1.8+ MB\n"
     ]
    }
   ],
   "source": [
    "exchange_rates.info()"
   ],
   "metadata": {
    "collapsed": false,
    "pycharm": {
     "name": "#%%\n"
    }
   }
  },
  {
   "cell_type": "code",
   "execution_count": 101,
   "outputs": [
    {
     "data": {
      "text/plain": "           Time [Australian dollar ] [Bulgarian lev ] [Brazilian real ]  \\\n0    1999-01-04               1.9100              NaN               NaN   \n1    1999-01-05               1.8944              NaN               NaN   \n2    1999-01-06               1.8820              NaN               NaN   \n3    1999-01-07               1.8474              NaN               NaN   \n4    1999-01-08               1.8406              NaN               NaN   \n...         ...                  ...              ...               ...   \n5749 2021-03-22               1.5400           1.9558            6.5917   \n5750 2021-03-23               1.5491           1.9558            6.5562   \n5751 2021-03-24               1.5532           1.9558            6.5258   \n5752 2021-03-25               1.5548           1.9558            6.6960   \n5753 2021-03-26               1.5459           1.9558            6.7110   \n\n     [Canadian dollar ] [Swiss franc ] [Chinese yuan renminbi ]  \\\n0                1.8004         1.6168                      NaN   \n1                1.7965         1.6123                      NaN   \n2                1.7711         1.6116                      NaN   \n3                1.7602         1.6165                      NaN   \n4                1.7643         1.6138                      NaN   \n...                 ...            ...                      ...   \n5749             1.4903         1.1023                   7.7582   \n5750             1.4938         1.1066                   7.7367   \n5751             1.4884         1.1068                   7.7133   \n5752             1.4849         1.1045                   7.7220   \n5753             1.4814         1.1090                   7.7063   \n\n     [Cypriot pound ] [Czech koruna ] [Danish krone ]  ... [Romanian leu ]  \\\n0             0.58231          35.107          7.4501  ...          1.3111   \n1             0.58230          34.917          7.4495  ...          1.3168   \n2             0.58200          34.850          7.4452  ...          1.3168   \n3             0.58187          34.886          7.4431  ...          1.3092   \n4             0.58187          34.938          7.4433  ...          1.3143   \n...               ...             ...             ...  ...             ...   \n5749              NaN          26.075          7.4360  ...          4.8862   \n5750              NaN          26.198          7.4360  ...          4.8893   \n5751              NaN          26.206          7.4360  ...          4.8880   \n5752              NaN          26.233          7.4360  ...          4.8865   \n5753              NaN          26.081          7.4361  ...          4.8878   \n\n     [Russian rouble ] [Swedish krona ] [Singapore dollar ]  \\\n0              25.2875           9.4696              1.9554   \n1              26.5876           9.4025              1.9655   \n2              27.4315           9.3050              1.9699   \n3              26.9876           9.1800              1.9436   \n4              27.2075           9.1650              1.9537   \n...                ...              ...                 ...   \n5749           88.9011          10.1580              1.5992   \n5750           90.2781          10.1813              1.5955   \n5751           90.2013          10.1635              1.5917   \n5752           90.0115          10.1935              1.5899   \n5753           89.5075          10.1905              1.5865   \n\n     [Slovenian tolar ] [Slovak koruna ] [Thai baht ] [Turkish lira ]  \\\n0              189.0450           42.991      42.6799          0.3723   \n1              188.7750           42.848      42.5048          0.3728   \n2              188.7000           42.778      42.6949          0.3722   \n3              188.8000           42.765      42.1678          0.3701   \n4              188.8400           42.560      42.5590          0.3718   \n...                 ...              ...          ...             ...   \n5749                NaN              NaN      36.8160          9.4097   \n5750                NaN              NaN      36.8190          9.3638   \n5751                NaN              NaN      36.6580          9.4009   \n5752                NaN              NaN      36.7460          9.4313   \n5753                NaN              NaN      36.6540          9.4523   \n\n     US_dollar  [South African rand ]  \n0       1.1789                 6.9358  \n1       1.1790                 6.7975  \n2       1.1743                 6.7307  \n3       1.1632                 6.8283  \n4       1.1659                 6.7855  \n...        ...                    ...  \n5749    1.1926                17.5657  \n5750    1.1883                17.5818  \n5751    1.1825                17.5248  \n5752    1.1802                17.6852  \n5753    1.1782                17.6845  \n\n[5754 rows x 41 columns]",
      "text/html": "<div>\n<style scoped>\n    .dataframe tbody tr th:only-of-type {\n        vertical-align: middle;\n    }\n\n    .dataframe tbody tr th {\n        vertical-align: top;\n    }\n\n    .dataframe thead th {\n        text-align: right;\n    }\n</style>\n<table border=\"1\" class=\"dataframe\">\n  <thead>\n    <tr style=\"text-align: right;\">\n      <th></th>\n      <th>Time</th>\n      <th>[Australian dollar ]</th>\n      <th>[Bulgarian lev ]</th>\n      <th>[Brazilian real ]</th>\n      <th>[Canadian dollar ]</th>\n      <th>[Swiss franc ]</th>\n      <th>[Chinese yuan renminbi ]</th>\n      <th>[Cypriot pound ]</th>\n      <th>[Czech koruna ]</th>\n      <th>[Danish krone ]</th>\n      <th>...</th>\n      <th>[Romanian leu ]</th>\n      <th>[Russian rouble ]</th>\n      <th>[Swedish krona ]</th>\n      <th>[Singapore dollar ]</th>\n      <th>[Slovenian tolar ]</th>\n      <th>[Slovak koruna ]</th>\n      <th>[Thai baht ]</th>\n      <th>[Turkish lira ]</th>\n      <th>US_dollar</th>\n      <th>[South African rand ]</th>\n    </tr>\n  </thead>\n  <tbody>\n    <tr>\n      <th>0</th>\n      <td>1999-01-04</td>\n      <td>1.9100</td>\n      <td>NaN</td>\n      <td>NaN</td>\n      <td>1.8004</td>\n      <td>1.6168</td>\n      <td>NaN</td>\n      <td>0.58231</td>\n      <td>35.107</td>\n      <td>7.4501</td>\n      <td>...</td>\n      <td>1.3111</td>\n      <td>25.2875</td>\n      <td>9.4696</td>\n      <td>1.9554</td>\n      <td>189.0450</td>\n      <td>42.991</td>\n      <td>42.6799</td>\n      <td>0.3723</td>\n      <td>1.1789</td>\n      <td>6.9358</td>\n    </tr>\n    <tr>\n      <th>1</th>\n      <td>1999-01-05</td>\n      <td>1.8944</td>\n      <td>NaN</td>\n      <td>NaN</td>\n      <td>1.7965</td>\n      <td>1.6123</td>\n      <td>NaN</td>\n      <td>0.58230</td>\n      <td>34.917</td>\n      <td>7.4495</td>\n      <td>...</td>\n      <td>1.3168</td>\n      <td>26.5876</td>\n      <td>9.4025</td>\n      <td>1.9655</td>\n      <td>188.7750</td>\n      <td>42.848</td>\n      <td>42.5048</td>\n      <td>0.3728</td>\n      <td>1.1790</td>\n      <td>6.7975</td>\n    </tr>\n    <tr>\n      <th>2</th>\n      <td>1999-01-06</td>\n      <td>1.8820</td>\n      <td>NaN</td>\n      <td>NaN</td>\n      <td>1.7711</td>\n      <td>1.6116</td>\n      <td>NaN</td>\n      <td>0.58200</td>\n      <td>34.850</td>\n      <td>7.4452</td>\n      <td>...</td>\n      <td>1.3168</td>\n      <td>27.4315</td>\n      <td>9.3050</td>\n      <td>1.9699</td>\n      <td>188.7000</td>\n      <td>42.778</td>\n      <td>42.6949</td>\n      <td>0.3722</td>\n      <td>1.1743</td>\n      <td>6.7307</td>\n    </tr>\n    <tr>\n      <th>3</th>\n      <td>1999-01-07</td>\n      <td>1.8474</td>\n      <td>NaN</td>\n      <td>NaN</td>\n      <td>1.7602</td>\n      <td>1.6165</td>\n      <td>NaN</td>\n      <td>0.58187</td>\n      <td>34.886</td>\n      <td>7.4431</td>\n      <td>...</td>\n      <td>1.3092</td>\n      <td>26.9876</td>\n      <td>9.1800</td>\n      <td>1.9436</td>\n      <td>188.8000</td>\n      <td>42.765</td>\n      <td>42.1678</td>\n      <td>0.3701</td>\n      <td>1.1632</td>\n      <td>6.8283</td>\n    </tr>\n    <tr>\n      <th>4</th>\n      <td>1999-01-08</td>\n      <td>1.8406</td>\n      <td>NaN</td>\n      <td>NaN</td>\n      <td>1.7643</td>\n      <td>1.6138</td>\n      <td>NaN</td>\n      <td>0.58187</td>\n      <td>34.938</td>\n      <td>7.4433</td>\n      <td>...</td>\n      <td>1.3143</td>\n      <td>27.2075</td>\n      <td>9.1650</td>\n      <td>1.9537</td>\n      <td>188.8400</td>\n      <td>42.560</td>\n      <td>42.5590</td>\n      <td>0.3718</td>\n      <td>1.1659</td>\n      <td>6.7855</td>\n    </tr>\n    <tr>\n      <th>...</th>\n      <td>...</td>\n      <td>...</td>\n      <td>...</td>\n      <td>...</td>\n      <td>...</td>\n      <td>...</td>\n      <td>...</td>\n      <td>...</td>\n      <td>...</td>\n      <td>...</td>\n      <td>...</td>\n      <td>...</td>\n      <td>...</td>\n      <td>...</td>\n      <td>...</td>\n      <td>...</td>\n      <td>...</td>\n      <td>...</td>\n      <td>...</td>\n      <td>...</td>\n      <td>...</td>\n    </tr>\n    <tr>\n      <th>5749</th>\n      <td>2021-03-22</td>\n      <td>1.5400</td>\n      <td>1.9558</td>\n      <td>6.5917</td>\n      <td>1.4903</td>\n      <td>1.1023</td>\n      <td>7.7582</td>\n      <td>NaN</td>\n      <td>26.075</td>\n      <td>7.4360</td>\n      <td>...</td>\n      <td>4.8862</td>\n      <td>88.9011</td>\n      <td>10.1580</td>\n      <td>1.5992</td>\n      <td>NaN</td>\n      <td>NaN</td>\n      <td>36.8160</td>\n      <td>9.4097</td>\n      <td>1.1926</td>\n      <td>17.5657</td>\n    </tr>\n    <tr>\n      <th>5750</th>\n      <td>2021-03-23</td>\n      <td>1.5491</td>\n      <td>1.9558</td>\n      <td>6.5562</td>\n      <td>1.4938</td>\n      <td>1.1066</td>\n      <td>7.7367</td>\n      <td>NaN</td>\n      <td>26.198</td>\n      <td>7.4360</td>\n      <td>...</td>\n      <td>4.8893</td>\n      <td>90.2781</td>\n      <td>10.1813</td>\n      <td>1.5955</td>\n      <td>NaN</td>\n      <td>NaN</td>\n      <td>36.8190</td>\n      <td>9.3638</td>\n      <td>1.1883</td>\n      <td>17.5818</td>\n    </tr>\n    <tr>\n      <th>5751</th>\n      <td>2021-03-24</td>\n      <td>1.5532</td>\n      <td>1.9558</td>\n      <td>6.5258</td>\n      <td>1.4884</td>\n      <td>1.1068</td>\n      <td>7.7133</td>\n      <td>NaN</td>\n      <td>26.206</td>\n      <td>7.4360</td>\n      <td>...</td>\n      <td>4.8880</td>\n      <td>90.2013</td>\n      <td>10.1635</td>\n      <td>1.5917</td>\n      <td>NaN</td>\n      <td>NaN</td>\n      <td>36.6580</td>\n      <td>9.4009</td>\n      <td>1.1825</td>\n      <td>17.5248</td>\n    </tr>\n    <tr>\n      <th>5752</th>\n      <td>2021-03-25</td>\n      <td>1.5548</td>\n      <td>1.9558</td>\n      <td>6.6960</td>\n      <td>1.4849</td>\n      <td>1.1045</td>\n      <td>7.7220</td>\n      <td>NaN</td>\n      <td>26.233</td>\n      <td>7.4360</td>\n      <td>...</td>\n      <td>4.8865</td>\n      <td>90.0115</td>\n      <td>10.1935</td>\n      <td>1.5899</td>\n      <td>NaN</td>\n      <td>NaN</td>\n      <td>36.7460</td>\n      <td>9.4313</td>\n      <td>1.1802</td>\n      <td>17.6852</td>\n    </tr>\n    <tr>\n      <th>5753</th>\n      <td>2021-03-26</td>\n      <td>1.5459</td>\n      <td>1.9558</td>\n      <td>6.7110</td>\n      <td>1.4814</td>\n      <td>1.1090</td>\n      <td>7.7063</td>\n      <td>NaN</td>\n      <td>26.081</td>\n      <td>7.4361</td>\n      <td>...</td>\n      <td>4.8878</td>\n      <td>89.5075</td>\n      <td>10.1905</td>\n      <td>1.5865</td>\n      <td>NaN</td>\n      <td>NaN</td>\n      <td>36.6540</td>\n      <td>9.4523</td>\n      <td>1.1782</td>\n      <td>17.6845</td>\n    </tr>\n  </tbody>\n</table>\n<p>5754 rows × 41 columns</p>\n</div>"
     },
     "execution_count": 101,
     "metadata": {},
     "output_type": "execute_result"
    }
   ],
   "source": [
    "# Rename US dollar and Period\\\\Unit columns\n",
    "exchange_rates.rename(columns={'[US dollar ]': 'US_dollar',\n",
    "                               'Period\\\\Unit:': 'Time'}, inplace = True)\n",
    "\n",
    "# Change Time column to datetime data type\n",
    "exchange_rates['Time'] = pd.to_datetime(exchange_rates['Time'])\n",
    "\n",
    "# Sort Time values in ascending order\n",
    "exchange_rates.sort_values('Time', inplace=True)\n",
    "\n",
    "# Reset the index and drop the initial index\n",
    "exchange_rates.reset_index(drop=True, inplace=False)"
   ],
   "metadata": {
    "collapsed": false,
    "pycharm": {
     "name": "#%%\n"
    }
   }
  },
  {
   "cell_type": "code",
   "execution_count": 102,
   "outputs": [
    {
     "data": {
      "text/plain": "           Time US_dollar\n5753 1999-01-04    1.1789\n5752 1999-01-05    1.1790\n5751 1999-01-06    1.1743\n5750 1999-01-07    1.1632\n5749 1999-01-08    1.1659",
      "text/html": "<div>\n<style scoped>\n    .dataframe tbody tr th:only-of-type {\n        vertical-align: middle;\n    }\n\n    .dataframe tbody tr th {\n        vertical-align: top;\n    }\n\n    .dataframe thead th {\n        text-align: right;\n    }\n</style>\n<table border=\"1\" class=\"dataframe\">\n  <thead>\n    <tr style=\"text-align: right;\">\n      <th></th>\n      <th>Time</th>\n      <th>US_dollar</th>\n    </tr>\n  </thead>\n  <tbody>\n    <tr>\n      <th>5753</th>\n      <td>1999-01-04</td>\n      <td>1.1789</td>\n    </tr>\n    <tr>\n      <th>5752</th>\n      <td>1999-01-05</td>\n      <td>1.1790</td>\n    </tr>\n    <tr>\n      <th>5751</th>\n      <td>1999-01-06</td>\n      <td>1.1743</td>\n    </tr>\n    <tr>\n      <th>5750</th>\n      <td>1999-01-07</td>\n      <td>1.1632</td>\n    </tr>\n    <tr>\n      <th>5749</th>\n      <td>1999-01-08</td>\n      <td>1.1659</td>\n    </tr>\n  </tbody>\n</table>\n</div>"
     },
     "execution_count": 102,
     "metadata": {},
     "output_type": "execute_result"
    }
   ],
   "source": [
    "# Assigning Time and US_dollar to new variable\n",
    "euro_to_dollar = exchange_rates[['Time', 'US_dollar']].copy()\n",
    "euro_to_dollar.head()"
   ],
   "metadata": {
    "collapsed": false,
    "pycharm": {
     "name": "#%%\n"
    }
   }
  },
  {
   "cell_type": "code",
   "execution_count": 103,
   "outputs": [
    {
     "data": {
      "text/plain": "-         62\n1.2276     9\n1.1215     8\n1.1305     7\n1.2713     6\n          ..\n1.1088     1\n1.1361     1\n1.2585     1\n0.9264     1\n0.8377     1\nName: US_dollar, Length: 3543, dtype: int64"
     },
     "execution_count": 103,
     "metadata": {},
     "output_type": "execute_result"
    }
   ],
   "source": [
    "euro_to_dollar['US_dollar'].value_counts()"
   ],
   "metadata": {
    "collapsed": false,
    "pycharm": {
     "name": "#%%\n"
    }
   }
  },
  {
   "cell_type": "code",
   "execution_count": 104,
   "outputs": [
    {
     "name": "stdout",
     "output_type": "stream",
     "text": [
      "<class 'pandas.core.frame.DataFrame'>\n",
      "Int64Index: 5754 entries, 5753 to 0\n",
      "Data columns (total 2 columns):\n",
      " #   Column     Non-Null Count  Dtype         \n",
      "---  ------     --------------  -----         \n",
      " 0   Time       5754 non-null   datetime64[ns]\n",
      " 1   US_dollar  5754 non-null   object        \n",
      "dtypes: datetime64[ns](1), object(1)\n",
      "memory usage: 134.9+ KB\n"
     ]
    }
   ],
   "source": [
    "# This shows there are 62 instances of '-'\n",
    "euro_to_dollar.info()"
   ],
   "metadata": {
    "collapsed": false,
    "pycharm": {
     "name": "#%%\n"
    }
   }
  },
  {
   "cell_type": "code",
   "execution_count": 105,
   "outputs": [
    {
     "data": {
      "text/plain": "1.2276    9\n1.1215    8\n1.1305    7\n1.1346    6\n1.3532    6\n         ..\n1.5566    1\n1.2467    1\n1.2208    1\n0.8907    1\n1.3937    1\nName: US_dollar, Length: 3542, dtype: int64"
     },
     "execution_count": 105,
     "metadata": {},
     "output_type": "execute_result"
    }
   ],
   "source": [
    "# Remove all rows that have '-' as US_dollar value and convert US_dollars to float\n",
    "euro_to_dollar.drop(index=euro_to_dollar[euro_to_dollar['US_dollar'] == '-'].index, inplace=True)\n",
    "euro_to_dollar['US_dollar'] = euro_to_dollar['US_dollar'].astype(float)\n",
    "euro_to_dollar['US_dollar'].value_counts()"
   ],
   "metadata": {
    "collapsed": false,
    "pycharm": {
     "name": "#%%\n"
    }
   }
  },
  {
   "cell_type": "code",
   "execution_count": 106,
   "outputs": [
    {
     "name": "stdout",
     "output_type": "stream",
     "text": [
      "<class 'pandas.core.frame.DataFrame'>\n",
      "Int64Index: 5692 entries, 5753 to 0\n",
      "Data columns (total 2 columns):\n",
      " #   Column     Non-Null Count  Dtype         \n",
      "---  ------     --------------  -----         \n",
      " 0   Time       5692 non-null   datetime64[ns]\n",
      " 1   US_dollar  5692 non-null   float64       \n",
      "dtypes: datetime64[ns](1), float64(1)\n",
      "memory usage: 133.4 KB\n"
     ]
    }
   ],
   "source": [
    "euro_to_dollar.info()"
   ],
   "metadata": {
    "collapsed": false,
    "pycharm": {
     "name": "#%%\n"
    }
   }
  },
  {
   "cell_type": "code",
   "execution_count": 107,
   "outputs": [
    {
     "data": {
      "text/plain": "<Figure size 432x288 with 1 Axes>",
      "image/png": "[encoded data removed]"
     },
     "metadata": {},
     "output_type": "display_data"
    }
   ],
   "source": [
    "# Plotting the Euro to Dollar conversion rate over time\n",
    "plt.plot(euro_to_dollar['Time'],\n",
    "         euro_to_dollar['US_dollar'])\n",
    "plt.show()"
   ],
   "metadata": {
    "collapsed": false,
    "pycharm": {
     "name": "#%%\n"
    }
   }
  },
  {
   "cell_type": "code",
   "execution_count": 110,
   "outputs": [
    {
     "data": {
      "text/plain": "<Figure size 432x288 with 1 Axes>",
      "image/png": "[encoded data removed]"
     },
     "metadata": {},
     "output_type": "display_data"
    }
   ],
   "source": [
    "# Find the 30 day rolling mean and plot\n",
    "euro_to_dollar['rolling_mean'] = euro_to_dollar['US_dollar'].rolling(30).mean()\n",
    "plt.plot(euro_to_dollar['Time'],\n",
    "         euro_to_dollar['rolling_mean'])\n",
    "plt.show()"
   ],
   "metadata": {
    "collapsed": false,
    "pycharm": {
     "name": "#%%\n"
    }
   }
  },
  {
   "cell_type": "code",
   "execution_count": null,
   "outputs": [],
   "source": [],
   "metadata": {
    "collapsed": false,
    "pycharm": {
     "name": "#%%\n"
    }
   }
  }
 ],
 "metadata": {
  "kernelspec": {
   "display_name": "Python 3",
   "language": "python",
   "name": "python3"
  },
  "language_info": {
   "codemirror_mode": {
    "name": "ipython",
    "version": 2
   },
   "file_extension": ".py",
   "mimetype": "text/x-python",
   "name": "python",
   "nbconvert_exporter": "python",
   "pygments_lexer": "ipython2",
   "version": "2.7.6"
  }
 },
 "nbformat": 4,
 "nbformat_minor": 0
}